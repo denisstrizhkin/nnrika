{
 "cells": [
  {
   "cell_type": "code",
   "execution_count": 1,
   "id": "f36631f2-e9bc-4b14-a8a5-bdb4e38a6464",
   "metadata": {},
   "outputs": [],
   "source": [
    "from transformers import AutoModelForCausalLM, AutoTokenizer\n",
    "from PIL import Image"
   ]
  },
  {
   "cell_type": "code",
   "execution_count": 2,
   "id": "78fab4a6-7f4a-4385-aba3-7b558feccd5c",
   "metadata": {},
   "outputs": [],
   "source": [
    "# Initialize the model\n",
    "model = AutoModelForCausalLM.from_pretrained(\n",
    "    \"vikhyatk/moondream2\",\n",
    "    revision=\"2025-01-09\",\n",
    "    trust_remote_code=True,\n",
    "    device_map={\"\": \"cuda\"}\n",
    ")"
   ]
  },
  {
   "cell_type": "code",
   "execution_count": 3,
   "id": "a01d0db2-c589-4963-a676-961420193466",
   "metadata": {},
   "outputs": [],
   "source": [
    "from pathlib import Path\n",
    "import re\n",
    "from tqdm import tqdm"
   ]
  },
  {
   "cell_type": "code",
   "execution_count": 4,
   "id": "2478cb20-7a09-425c-b8b7-823acd0fbb5f",
   "metadata": {},
   "outputs": [],
   "source": [
    "def extract_number(s: str) -> float:\n",
    "    pattern = r'(\\d+)_(\\d+)'\n",
    "    match = re.match(pattern, s)\n",
    "    num_int = match.group(1)\n",
    "    num_float = match.group(2)\n",
    "    return float(f\"{num_int}.{num_float}\")"
   ]
  },
  {
   "cell_type": "code",
   "execution_count": 5,
   "id": "024880e8-b8f1-498d-b051-b79a802087d1",
   "metadata": {},
   "outputs": [],
   "source": [
    "def parse_image(p: Path) -> float:\n",
    "    image = Image.open(p)\n",
    "    q = \"\"\"\n",
    "your task is to extract number displayed on the device. respond with integer number\n",
    "\"\"\"\n",
    "    return float(model.query(image, q)[\"answer\"]) / 10"
   ]
  },
  {
   "cell_type": "code",
   "execution_count": 6,
   "id": "b5bb37c4-c636-4c8c-beab-96623a1c1037",
   "metadata": {},
   "outputs": [],
   "source": [
    "def parse_image_dir(dir: Path):\n",
    "    count = 0\n",
    "    err_count = 0\n",
    "    for file in tqdm(dir.glob('*/*')):\n",
    "        name = file.stem\n",
    "        num = extract_number(name)\n",
    "        answer = parse_image(file)\n",
    "        status = \"ok\"\n",
    "        count += 1\n",
    "        if str(num) != str(answer):\n",
    "            status = \"err\"\n",
    "            err_count += 1\n",
    "        print(f\"wanted: {num:4.1f}, got: {answer:4.1f} | {status} | {file}\")\n",
    "    print(f\"err %: {err_count / count * 100}\")"
   ]
  },
  {
   "cell_type": "code",
   "execution_count": 7,
   "id": "a688597e-5b6f-4f8c-be83-5912b96047ba",
   "metadata": {},
   "outputs": [
    {
     "data": {
      "text/plain": [
       "PosixPath('data')"
      ]
     },
     "execution_count": 7,
     "metadata": {},
     "output_type": "execute_result"
    }
   ],
   "source": [
    "DATA_PATH = Path(\"./data\")\n",
    "DATA_PATH"
   ]
  },
  {
   "cell_type": "code",
   "execution_count": 8,
   "id": "3a9bd7fb-1923-4dde-952b-8dc912cbdba2",
   "metadata": {
    "scrolled": true
   },
   "outputs": [
    {
     "name": "stderr",
     "output_type": "stream",
     "text": [
      "2it [00:00,  5.37it/s]"
     ]
    },
    {
     "name": "stdout",
     "output_type": "stream",
     "text": [
      "wanted:  0.0, got:  0.0 | ok | data/1_type/0_0.png\n",
      "wanted: 10.0, got: 10.0 | ok | data/1_type/10_0.png\n"
     ]
    },
    {
     "name": "stderr",
     "output_type": "stream",
     "text": [
      "4it [00:00,  7.65it/s]"
     ]
    },
    {
     "name": "stdout",
     "output_type": "stream",
     "text": [
      "wanted: 11.0, got: 11.0 | ok | data/1_type/11_0.png\n",
      "wanted: 12.0, got: 12.0 | ok | data/1_type/12_0.png\n"
     ]
    },
    {
     "name": "stderr",
     "output_type": "stream",
     "text": [
      "6it [00:00,  8.64it/s]"
     ]
    },
    {
     "name": "stdout",
     "output_type": "stream",
     "text": [
      "wanted: 13.0, got: 13.0 | ok | data/1_type/13_0.png\n",
      "wanted: 14.0, got: 14.0 | ok | data/1_type/14_0.png\n"
     ]
    },
    {
     "name": "stderr",
     "output_type": "stream",
     "text": [
      "8it [00:01,  8.77it/s]"
     ]
    },
    {
     "name": "stdout",
     "output_type": "stream",
     "text": [
      "wanted: 15.0, got: 15.0 | ok | data/1_type/15_0.png\n",
      "wanted: 17.0, got: 71.7 | err | data/1_type/17_0.png\n"
     ]
    },
    {
     "name": "stderr",
     "output_type": "stream",
     "text": [
      "10it [00:01,  9.20it/s]"
     ]
    },
    {
     "name": "stdout",
     "output_type": "stream",
     "text": [
      "wanted: 18.0, got: 18.0 | ok | data/1_type/18_0.png\n",
      "wanted: 19.0, got: 15.0 | err | data/1_type/19_0.png\n"
     ]
    },
    {
     "name": "stderr",
     "output_type": "stream",
     "text": [
      "12it [00:01,  9.35it/s]"
     ]
    },
    {
     "name": "stdout",
     "output_type": "stream",
     "text": [
      "wanted:  1.0, got:  1.0 | ok | data/1_type/1_0.png\n",
      "wanted: 21.0, got: 21.0 | ok | data/1_type/21_0.png\n"
     ]
    },
    {
     "name": "stderr",
     "output_type": "stream",
     "text": [
      "14it [00:01,  9.07it/s]"
     ]
    },
    {
     "name": "stdout",
     "output_type": "stream",
     "text": [
      "wanted: 22.0, got: 22.0 | ok | data/1_type/22_0.png\n",
      "wanted: 23.0, got: 72.8 | err | data/1_type/23_0.png\n"
     ]
    },
    {
     "name": "stderr",
     "output_type": "stream",
     "text": [
      "16it [00:01,  9.27it/s]"
     ]
    },
    {
     "name": "stdout",
     "output_type": "stream",
     "text": [
      "wanted: 24.0, got: 24.0 | ok | data/1_type/24_0.png\n",
      "wanted: 25.0, got: 25.0 | ok | data/1_type/25_0.png\n"
     ]
    },
    {
     "name": "stderr",
     "output_type": "stream",
     "text": [
      "18it [00:02,  9.06it/s]"
     ]
    },
    {
     "name": "stdout",
     "output_type": "stream",
     "text": [
      "wanted: 26.0, got: 25.0 | err | data/1_type/26_0.png\n",
      "wanted: 27.0, got: 71.0 | err | data/1_type/27_0.png\n"
     ]
    },
    {
     "name": "stderr",
     "output_type": "stream",
     "text": [
      "20it [00:02,  9.35it/s]"
     ]
    },
    {
     "name": "stdout",
     "output_type": "stream",
     "text": [
      "wanted: 28.0, got: 28.0 | ok | data/1_type/28_0.png\n",
      "wanted: 29.0, got: 28.0 | err | data/1_type/29_0.png\n"
     ]
    },
    {
     "name": "stderr",
     "output_type": "stream",
     "text": [
      "22it [00:02,  9.44it/s]"
     ]
    },
    {
     "name": "stdout",
     "output_type": "stream",
     "text": [
      "wanted:  2.0, got:  2.0 | ok | data/1_type/2_0.png\n",
      "wanted: 30.0, got: 30.0 | ok | data/1_type/30_0.png\n"
     ]
    },
    {
     "name": "stderr",
     "output_type": "stream",
     "text": [
      "24it [00:02,  9.49it/s]"
     ]
    },
    {
     "name": "stdout",
     "output_type": "stream",
     "text": [
      "wanted: 31.0, got:  0.3 | err | data/1_type/31_0.png\n",
      "wanted: 32.0, got: 32.0 | ok | data/1_type/32_0.png\n"
     ]
    },
    {
     "name": "stderr",
     "output_type": "stream",
     "text": [
      "26it [00:02,  9.52it/s]"
     ]
    },
    {
     "name": "stdout",
     "output_type": "stream",
     "text": [
      "wanted: 33.0, got: 33.0 | ok | data/1_type/33_0.png\n",
      "wanted: 34.0, got: 34.0 | ok | data/1_type/34_0.png\n"
     ]
    },
    {
     "name": "stderr",
     "output_type": "stream",
     "text": [
      "28it [00:03,  9.54it/s]"
     ]
    },
    {
     "name": "stdout",
     "output_type": "stream",
     "text": [
      "wanted: 35.0, got: 35.0 | ok | data/1_type/35_0.png\n",
      "wanted: 36.0, got: 33.0 | err | data/1_type/36_0.png\n"
     ]
    },
    {
     "name": "stderr",
     "output_type": "stream",
     "text": [
      "30it [00:03,  9.52it/s]"
     ]
    },
    {
     "name": "stdout",
     "output_type": "stream",
     "text": [
      "wanted: 37.0, got:  0.3 | err | data/1_type/37_0.png\n",
      "wanted: 38.0, got: 38.0 | ok | data/1_type/38_0.png\n"
     ]
    },
    {
     "name": "stderr",
     "output_type": "stream",
     "text": [
      "32it [00:03,  9.56it/s]"
     ]
    },
    {
     "name": "stdout",
     "output_type": "stream",
     "text": [
      "wanted: 39.0, got: 38.0 | err | data/1_type/39_0.png\n",
      "wanted:  3.0, got:  3.0 | ok | data/1_type/3_0.png\n"
     ]
    },
    {
     "name": "stderr",
     "output_type": "stream",
     "text": [
      "34it [00:03,  9.56it/s]"
     ]
    },
    {
     "name": "stdout",
     "output_type": "stream",
     "text": [
      "wanted: 40.0, got: 40.0 | ok | data/1_type/40_0.png\n",
      "wanted: 41.0, got: 41.0 | ok | data/1_type/41_0.png\n"
     ]
    },
    {
     "name": "stderr",
     "output_type": "stream",
     "text": [
      "36it [00:04,  9.59it/s]"
     ]
    },
    {
     "name": "stdout",
     "output_type": "stream",
     "text": [
      "wanted: 42.0, got:  4.0 | err | data/1_type/42_0.png\n",
      "wanted: 43.0, got: 43.0 | ok | data/1_type/43_0(2).png\n"
     ]
    },
    {
     "name": "stderr",
     "output_type": "stream",
     "text": [
      "38it [00:04,  9.59it/s]"
     ]
    },
    {
     "name": "stdout",
     "output_type": "stream",
     "text": [
      "wanted: 43.0, got: 43.0 | ok | data/1_type/43_0.png\n",
      "wanted: 44.0, got: 44.0 | ok | data/1_type/44_0.png\n"
     ]
    },
    {
     "name": "stderr",
     "output_type": "stream",
     "text": [
      "40it [00:04,  9.50it/s]"
     ]
    },
    {
     "name": "stdout",
     "output_type": "stream",
     "text": [
      "wanted: 45.0, got:  4.5 | err | data/1_type/45_0.png\n",
      "wanted: 46.0, got:  4.6 | err | data/1_type/46_0.png\n"
     ]
    },
    {
     "name": "stderr",
     "output_type": "stream",
     "text": [
      "42it [00:04,  9.50it/s]"
     ]
    },
    {
     "name": "stdout",
     "output_type": "stream",
     "text": [
      "wanted: 47.0, got: 47.0 | ok | data/1_type/47_0.png\n",
      "wanted: 48.0, got: 48.0 | ok | data/1_type/48_0.png\n"
     ]
    },
    {
     "name": "stderr",
     "output_type": "stream",
     "text": [
      "44it [00:04,  9.48it/s]"
     ]
    },
    {
     "name": "stdout",
     "output_type": "stream",
     "text": [
      "wanted: 49.0, got:  0.4 | err | data/1_type/49_0.png\n",
      "wanted:  4.0, got:  4.0 | ok | data/1_type/4_0.png\n"
     ]
    },
    {
     "name": "stderr",
     "output_type": "stream",
     "text": [
      "46it [00:05,  9.45it/s]"
     ]
    },
    {
     "name": "stdout",
     "output_type": "stream",
     "text": [
      "wanted: 50.0, got: 50.0 | ok | data/1_type/50_0.png\n",
      "wanted: 51.0, got: 51.0 | ok | data/1_type/51_0.png\n"
     ]
    },
    {
     "name": "stderr",
     "output_type": "stream",
     "text": [
      "48it [00:05,  9.53it/s]"
     ]
    },
    {
     "name": "stdout",
     "output_type": "stream",
     "text": [
      "wanted:  5.0, got:  5.0 | ok | data/1_type/5_0.png\n",
      "wanted:  6.0, got:  0.3 | err | data/1_type/6_0.png\n"
     ]
    },
    {
     "name": "stderr",
     "output_type": "stream",
     "text": [
      "50it [00:05,  9.50it/s]"
     ]
    },
    {
     "name": "stdout",
     "output_type": "stream",
     "text": [
      "wanted:  7.0, got:  1.0 | err | data/1_type/7_0.png\n",
      "wanted:  8.0, got:  8.0 | ok | data/1_type/8_0.png\n"
     ]
    },
    {
     "name": "stderr",
     "output_type": "stream",
     "text": [
      "52it [00:05,  9.48it/s]"
     ]
    },
    {
     "name": "stdout",
     "output_type": "stream",
     "text": [
      "wanted:  9.0, got:  5.0 | err | data/1_type/9_0.png\n",
      "wanted:  0.0, got:  0.0 | ok | data/2_type/0_0(2).png\n"
     ]
    },
    {
     "name": "stderr",
     "output_type": "stream",
     "text": [
      "54it [00:05,  9.39it/s]"
     ]
    },
    {
     "name": "stdout",
     "output_type": "stream",
     "text": [
      "wanted:  0.0, got:  0.0 | ok | data/2_type/0_0.png\n",
      "wanted: 10.0, got: 10.0 | ok | data/2_type/10_0.png\n"
     ]
    },
    {
     "name": "stderr",
     "output_type": "stream",
     "text": [
      "56it [00:06,  9.39it/s]"
     ]
    },
    {
     "name": "stdout",
     "output_type": "stream",
     "text": [
      "wanted: 11.0, got: 11.0 | ok | data/2_type/11_0.png\n",
      "wanted: 12.0, got:  1.2 | err | data/2_type/12_0.png\n"
     ]
    },
    {
     "name": "stderr",
     "output_type": "stream",
     "text": [
      "58it [00:06,  9.37it/s]"
     ]
    },
    {
     "name": "stdout",
     "output_type": "stream",
     "text": [
      "wanted: 13.0, got: 13.0 | ok | data/2_type/13_0.png\n",
      "wanted: 14.0, got: 14.0 | ok | data/2_type/14_0.png\n"
     ]
    },
    {
     "name": "stderr",
     "output_type": "stream",
     "text": [
      "60it [00:06,  9.44it/s]"
     ]
    },
    {
     "name": "stdout",
     "output_type": "stream",
     "text": [
      "wanted: 15.0, got: 15.0 | ok | data/2_type/15_0.png\n",
      "wanted: 16.0, got: 16.0 | ok | data/2_type/16_0.png\n"
     ]
    },
    {
     "name": "stderr",
     "output_type": "stream",
     "text": [
      "62it [00:06,  9.47it/s]"
     ]
    },
    {
     "name": "stdout",
     "output_type": "stream",
     "text": [
      "wanted: 17.0, got:  1.7 | err | data/2_type/17_0.png\n",
      "wanted: 18.0, got: 18.0 | ok | data/2_type/18_0.png\n"
     ]
    },
    {
     "name": "stderr",
     "output_type": "stream",
     "text": [
      "64it [00:06,  9.50it/s]"
     ]
    },
    {
     "name": "stdout",
     "output_type": "stream",
     "text": [
      "wanted: 19.0, got:  1.0 | err | data/2_type/19_0.png\n",
      "wanted:  1.0, got:  1.0 | ok | data/2_type/1_0.png\n"
     ]
    },
    {
     "name": "stderr",
     "output_type": "stream",
     "text": [
      "66it [00:07,  9.50it/s]"
     ]
    },
    {
     "name": "stdout",
     "output_type": "stream",
     "text": [
      "wanted: 20.0, got: 20.0 | ok | data/2_type/20_0.png\n",
      "wanted: 21.0, got: 21.2 | err | data/2_type/21_0.png\n"
     ]
    },
    {
     "name": "stderr",
     "output_type": "stream",
     "text": [
      "68it [00:07,  9.52it/s]"
     ]
    },
    {
     "name": "stdout",
     "output_type": "stream",
     "text": [
      "wanted: 22.0, got:  2.2 | err | data/2_type/22_0.png\n",
      "wanted: 23.0, got: 23.0 | ok | data/2_type/23_0.png\n"
     ]
    },
    {
     "name": "stderr",
     "output_type": "stream",
     "text": [
      "70it [00:07,  9.52it/s]"
     ]
    },
    {
     "name": "stdout",
     "output_type": "stream",
     "text": [
      "wanted: 24.0, got:  0.2 | err | data/2_type/24_0.png\n",
      "wanted: 25.0, got: 25.0 | ok | data/2_type/25_0.png\n"
     ]
    },
    {
     "name": "stderr",
     "output_type": "stream",
     "text": [
      "72it [00:07,  9.22it/s]"
     ]
    },
    {
     "name": "stdout",
     "output_type": "stream",
     "text": [
      "wanted: 26.0, got: 32.0 | err | data/2_type/26_0.png\n",
      "wanted: 27.0, got: 27.2 | err | data/2_type/27_0.png\n"
     ]
    },
    {
     "name": "stderr",
     "output_type": "stream",
     "text": [
      "74it [00:08,  9.46it/s]"
     ]
    },
    {
     "name": "stdout",
     "output_type": "stream",
     "text": [
      "wanted: 28.0, got: 28.0 | ok | data/2_type/28_0.png\n",
      "wanted: 29.0, got: 23.0 | err | data/2_type/29_0.png\n"
     ]
    },
    {
     "name": "stderr",
     "output_type": "stream",
     "text": [
      "76it [00:08,  9.58it/s]"
     ]
    },
    {
     "name": "stdout",
     "output_type": "stream",
     "text": [
      "wanted:  2.0, got:  2.0 | ok | data/2_type/2_0.png\n",
      "wanted: 30.0, got: 30.0 | ok | data/2_type/30_0.png\n"
     ]
    },
    {
     "name": "stderr",
     "output_type": "stream",
     "text": [
      "78it [00:08,  9.60it/s]"
     ]
    },
    {
     "name": "stdout",
     "output_type": "stream",
     "text": [
      "wanted: 31.0, got: 31.3 | err | data/2_type/31_0.png\n",
      "wanted: 32.0, got: 23.0 | err | data/2_type/32_0.png\n"
     ]
    },
    {
     "name": "stderr",
     "output_type": "stream",
     "text": [
      "80it [00:08,  9.58it/s]"
     ]
    },
    {
     "name": "stdout",
     "output_type": "stream",
     "text": [
      "wanted: 33.0, got: 33.0 | ok | data/2_type/33_0.png\n",
      "wanted: 34.0, got: 34.0 | ok | data/2_type/34_0.png\n"
     ]
    },
    {
     "name": "stderr",
     "output_type": "stream",
     "text": [
      "82it [00:08,  9.53it/s]"
     ]
    },
    {
     "name": "stdout",
     "output_type": "stream",
     "text": [
      "wanted: 35.0, got:  0.0 | err | data/2_type/35_0.png\n",
      "wanted: 36.0, got: 30.0 | err | data/2_type/36_0.png\n"
     ]
    },
    {
     "name": "stderr",
     "output_type": "stream",
     "text": [
      "84it [00:09,  9.58it/s]"
     ]
    },
    {
     "name": "stdout",
     "output_type": "stream",
     "text": [
      "wanted: 37.0, got:  0.3 | err | data/2_type/37_0.png\n",
      "wanted: 38.0, got: 30.0 | err | data/2_type/38_0.png\n"
     ]
    },
    {
     "name": "stderr",
     "output_type": "stream",
     "text": [
      "86it [00:09,  9.59it/s]"
     ]
    },
    {
     "name": "stdout",
     "output_type": "stream",
     "text": [
      "wanted: 39.0, got: 38.0 | err | data/2_type/39_0.png\n",
      "wanted:  3.0, got:  3.0 | ok | data/2_type/3_0.png\n"
     ]
    },
    {
     "name": "stderr",
     "output_type": "stream",
     "text": [
      "88it [00:09,  9.61it/s]"
     ]
    },
    {
     "name": "stdout",
     "output_type": "stream",
     "text": [
      "wanted: 40.0, got: 40.0 | ok | data/2_type/40_0.png\n",
      "wanted: 41.0, got: 41.0 | ok | data/2_type/41_0.png\n"
     ]
    },
    {
     "name": "stderr",
     "output_type": "stream",
     "text": [
      "90it [00:09,  9.63it/s]"
     ]
    },
    {
     "name": "stdout",
     "output_type": "stream",
     "text": [
      "wanted: 42.0, got: 72.0 | err | data/2_type/42_0.png\n",
      "wanted: 43.0, got: 43.0 | ok | data/2_type/43_0.png\n"
     ]
    },
    {
     "name": "stderr",
     "output_type": "stream",
     "text": [
      "92it [00:09,  9.65it/s]"
     ]
    },
    {
     "name": "stdout",
     "output_type": "stream",
     "text": [
      "wanted: 44.0, got: 44.0 | ok | data/2_type/44_0.png\n",
      "wanted: 45.0, got: 45.0 | ok | data/2_type/45_0.png\n"
     ]
    },
    {
     "name": "stderr",
     "output_type": "stream",
     "text": [
      "94it [00:10,  9.34it/s]"
     ]
    },
    {
     "name": "stdout",
     "output_type": "stream",
     "text": [
      "wanted: 46.0, got: 45.6 | err | data/2_type/46_0.png\n",
      "wanted: 47.0, got: 47.0 | ok | data/2_type/47_0.png\n"
     ]
    },
    {
     "name": "stderr",
     "output_type": "stream",
     "text": [
      "96it [00:10,  9.41it/s]"
     ]
    },
    {
     "name": "stdout",
     "output_type": "stream",
     "text": [
      "wanted: 49.0, got:  0.4 | err | data/2_type/49_0.png\n",
      "wanted:  4.0, got:  4.0 | ok | data/2_type/4_0.png\n"
     ]
    },
    {
     "name": "stderr",
     "output_type": "stream",
     "text": [
      "98it [00:10,  9.45it/s]"
     ]
    },
    {
     "name": "stdout",
     "output_type": "stream",
     "text": [
      "wanted: 50.0, got: 50.0 | ok | data/2_type/50_0.png\n",
      "wanted: 51.0, got: 51.0 | ok | data/2_type/51_0.png\n"
     ]
    },
    {
     "name": "stderr",
     "output_type": "stream",
     "text": [
      "100it [00:10,  9.51it/s]"
     ]
    },
    {
     "name": "stdout",
     "output_type": "stream",
     "text": [
      "wanted: 52.0, got:  2.3 | err | data/2_type/52_0.png\n",
      "wanted: 53.0, got: 53.0 | ok | data/2_type/53_0.png\n"
     ]
    },
    {
     "name": "stderr",
     "output_type": "stream",
     "text": [
      "102it [00:10,  9.56it/s]"
     ]
    },
    {
     "name": "stdout",
     "output_type": "stream",
     "text": [
      "wanted: 54.0, got: 54.0 | ok | data/2_type/54_0.png\n",
      "wanted: 55.0, got:  0.5 | err | data/2_type/55_0.png\n"
     ]
    },
    {
     "name": "stderr",
     "output_type": "stream",
     "text": [
      "104it [00:11,  9.27it/s]"
     ]
    },
    {
     "name": "stdout",
     "output_type": "stream",
     "text": [
      "wanted: 56.0, got:  0.5 | err | data/2_type/56_0.png\n",
      "wanted: 57.0, got: 52.7 | err | data/2_type/57_0.png\n"
     ]
    },
    {
     "name": "stderr",
     "output_type": "stream",
     "text": [
      "106it [00:11,  9.13it/s]"
     ]
    },
    {
     "name": "stdout",
     "output_type": "stream",
     "text": [
      "wanted: 58.0, got: 58.0 | ok | data/2_type/58_0.png\n",
      "wanted: 59.0, got: 59.0 | ok | data/2_type/59_0.png\n"
     ]
    },
    {
     "name": "stderr",
     "output_type": "stream",
     "text": [
      "108it [00:11,  9.32it/s]"
     ]
    },
    {
     "name": "stdout",
     "output_type": "stream",
     "text": [
      "wanted:  5.0, got:  3.0 | err | data/2_type/5_0.png\n",
      "wanted: 60.0, got: 60.0 | ok | data/2_type/60_0.png\n"
     ]
    },
    {
     "name": "stderr",
     "output_type": "stream",
     "text": [
      "110it [00:11,  9.38it/s]"
     ]
    },
    {
     "name": "stdout",
     "output_type": "stream",
     "text": [
      "wanted: 61.0, got: 61.0 | ok | data/2_type/61_0.png\n",
      "wanted: 62.0, got:  0.6 | err | data/2_type/62_0.png\n"
     ]
    },
    {
     "name": "stderr",
     "output_type": "stream",
     "text": [
      "112it [00:12,  9.49it/s]"
     ]
    },
    {
     "name": "stdout",
     "output_type": "stream",
     "text": [
      "wanted: 63.0, got:  0.6 | err | data/2_type/63_0.png\n",
      "wanted:  6.0, got:  6.0 | ok | data/2_type/6_0.png\n"
     ]
    },
    {
     "name": "stderr",
     "output_type": "stream",
     "text": [
      "114it [00:12,  9.54it/s]"
     ]
    },
    {
     "name": "stdout",
     "output_type": "stream",
     "text": [
      "wanted:  7.0, got:  7.0 | ok | data/2_type/7_0.png\n",
      "wanted:  8.0, got:  8.0 | ok | data/2_type/8_0.png\n"
     ]
    },
    {
     "name": "stderr",
     "output_type": "stream",
     "text": [
      "116it [00:12,  9.60it/s]"
     ]
    },
    {
     "name": "stdout",
     "output_type": "stream",
     "text": [
      "wanted:  9.0, got:  9.0 | ok | data/2_type/9_0.png\n",
      "wanted:  0.0, got:  0.0 | ok | data/3_type/0_0(2).png\n"
     ]
    },
    {
     "name": "stderr",
     "output_type": "stream",
     "text": [
      "118it [00:12,  9.64it/s]"
     ]
    },
    {
     "name": "stdout",
     "output_type": "stream",
     "text": [
      "wanted:  0.0, got:  0.0 | ok | data/3_type/0_0.png\n",
      "wanted: 10.0, got:  1.0 | err | data/3_type/10_0.png\n"
     ]
    },
    {
     "name": "stderr",
     "output_type": "stream",
     "text": [
      "120it [00:12,  9.64it/s]"
     ]
    },
    {
     "name": "stdout",
     "output_type": "stream",
     "text": [
      "wanted: 11.0, got:  1.1 | err | data/3_type/11_0 (2).png\n",
      "wanted: 11.0, got:  1.1 | err | data/3_type/11_0.png\n"
     ]
    },
    {
     "name": "stderr",
     "output_type": "stream",
     "text": [
      "122it [00:13,  9.59it/s]"
     ]
    },
    {
     "name": "stdout",
     "output_type": "stream",
     "text": [
      "wanted: 12.0, got:  1.2 | err | data/3_type/12_0.png\n",
      "wanted: 13.0, got:  1.3 | err | data/3_type/13_0.png\n"
     ]
    },
    {
     "name": "stderr",
     "output_type": "stream",
     "text": [
      "124it [00:13,  9.54it/s]"
     ]
    },
    {
     "name": "stdout",
     "output_type": "stream",
     "text": [
      "wanted: 14.0, got:  1.4 | err | data/3_type/14_0.png\n",
      "wanted: 15.0, got:  1.5 | err | data/3_type/15_0.png\n"
     ]
    },
    {
     "name": "stderr",
     "output_type": "stream",
     "text": [
      "126it [00:13,  9.49it/s]"
     ]
    },
    {
     "name": "stdout",
     "output_type": "stream",
     "text": [
      "wanted: 16.0, got:  1.6 | err | data/3_type/16_0.png\n",
      "wanted: 17.0, got:  1.7 | err | data/3_type/17_0.png\n"
     ]
    },
    {
     "name": "stderr",
     "output_type": "stream",
     "text": [
      "128it [00:13,  9.48it/s]"
     ]
    },
    {
     "name": "stdout",
     "output_type": "stream",
     "text": [
      "wanted: 18.0, got:  1.8 | err | data/3_type/18_0.png\n",
      "wanted: 19.0, got:  1.9 | err | data/3_type/19_0.png\n"
     ]
    },
    {
     "name": "stderr",
     "output_type": "stream",
     "text": [
      "130it [00:13,  9.45it/s]"
     ]
    },
    {
     "name": "stdout",
     "output_type": "stream",
     "text": [
      "wanted:  1.0, got:  0.1 | err | data/3_type/1_0.png\n",
      "wanted: 20.0, got:  2.0 | err | data/3_type/20_0.png\n"
     ]
    },
    {
     "name": "stderr",
     "output_type": "stream",
     "text": [
      "132it [00:14,  9.53it/s]"
     ]
    },
    {
     "name": "stdout",
     "output_type": "stream",
     "text": [
      "wanted: 21.0, got:  2.1 | err | data/3_type/21_0.png\n",
      "wanted: 22.0, got:  2.2 | err | data/3_type/22_0.png\n"
     ]
    },
    {
     "name": "stderr",
     "output_type": "stream",
     "text": [
      "134it [00:14,  9.55it/s]"
     ]
    },
    {
     "name": "stdout",
     "output_type": "stream",
     "text": [
      "wanted: 23.0, got:  2.3 | err | data/3_type/23_0.png\n",
      "wanted: 24.0, got:  2.4 | err | data/3_type/24_0.png\n"
     ]
    },
    {
     "name": "stderr",
     "output_type": "stream",
     "text": [
      "136it [00:14,  9.56it/s]"
     ]
    },
    {
     "name": "stdout",
     "output_type": "stream",
     "text": [
      "wanted: 25.0, got:  2.5 | err | data/3_type/25_0.png\n",
      "wanted: 26.0, got:  2.6 | err | data/3_type/26_0.png\n"
     ]
    },
    {
     "name": "stderr",
     "output_type": "stream",
     "text": [
      "138it [00:14,  9.59it/s]"
     ]
    },
    {
     "name": "stdout",
     "output_type": "stream",
     "text": [
      "wanted: 27.0, got:  2.7 | err | data/3_type/27_0.png\n",
      "wanted: 28.0, got:  2.8 | err | data/3_type/28_0.png\n"
     ]
    },
    {
     "name": "stderr",
     "output_type": "stream",
     "text": [
      "140it [00:14,  9.58it/s]"
     ]
    },
    {
     "name": "stdout",
     "output_type": "stream",
     "text": [
      "wanted: 29.0, got:  2.9 | err | data/3_type/29_0.png\n",
      "wanted:  2.0, got:  0.2 | err | data/3_type/2_0.png\n"
     ]
    },
    {
     "name": "stderr",
     "output_type": "stream",
     "text": [
      "142it [00:15,  9.58it/s]"
     ]
    },
    {
     "name": "stdout",
     "output_type": "stream",
     "text": [
      "wanted: 30.0, got:  3.0 | err | data/3_type/30_0.png\n",
      "wanted: 31.0, got:  3.1 | err | data/3_type/31_0.png\n"
     ]
    },
    {
     "name": "stderr",
     "output_type": "stream",
     "text": [
      "144it [00:15,  9.56it/s]"
     ]
    },
    {
     "name": "stdout",
     "output_type": "stream",
     "text": [
      "wanted: 32.0, got:  3.2 | err | data/3_type/32_0 (2).png\n",
      "wanted: 32.0, got:  3.2 | err | data/3_type/32_0.png\n"
     ]
    },
    {
     "name": "stderr",
     "output_type": "stream",
     "text": [
      "146it [00:15,  9.53it/s]"
     ]
    },
    {
     "name": "stdout",
     "output_type": "stream",
     "text": [
      "wanted: 33.0, got:  3.3 | err | data/3_type/33_0.png\n",
      "wanted: 34.0, got:  3.4 | err | data/3_type/34_0.png\n"
     ]
    },
    {
     "name": "stderr",
     "output_type": "stream",
     "text": [
      "148it [00:15,  9.54it/s]"
     ]
    },
    {
     "name": "stdout",
     "output_type": "stream",
     "text": [
      "wanted: 35.0, got:  3.5 | err | data/3_type/35_0 (2).png\n",
      "wanted: 35.0, got:  3.5 | err | data/3_type/35_0.png\n"
     ]
    },
    {
     "name": "stderr",
     "output_type": "stream",
     "text": [
      "150it [00:16,  9.59it/s]"
     ]
    },
    {
     "name": "stdout",
     "output_type": "stream",
     "text": [
      "wanted: 36.0, got:  3.6 | err | data/3_type/36_0.png\n",
      "wanted: 37.0, got:  3.7 | err | data/3_type/37_0.png\n"
     ]
    },
    {
     "name": "stderr",
     "output_type": "stream",
     "text": [
      "152it [00:16,  9.56it/s]"
     ]
    },
    {
     "name": "stdout",
     "output_type": "stream",
     "text": [
      "wanted: 38.0, got:  3.8 | err | data/3_type/38_0.png\n",
      "wanted: 39.0, got:  3.9 | err | data/3_type/39_0.png\n"
     ]
    },
    {
     "name": "stderr",
     "output_type": "stream",
     "text": [
      "154it [00:16,  9.57it/s]"
     ]
    },
    {
     "name": "stdout",
     "output_type": "stream",
     "text": [
      "wanted:  3.0, got:  0.3 | err | data/3_type/3_0.png\n",
      "wanted: 40.0, got:  4.0 | err | data/3_type/40_0.png\n"
     ]
    },
    {
     "name": "stderr",
     "output_type": "stream",
     "text": [
      "156it [00:16,  9.55it/s]"
     ]
    },
    {
     "name": "stdout",
     "output_type": "stream",
     "text": [
      "wanted: 41.0, got:  4.1 | err | data/3_type/41_0.png\n",
      "wanted: 42.0, got:  4.2 | err | data/3_type/42_0.png\n"
     ]
    },
    {
     "name": "stderr",
     "output_type": "stream",
     "text": [
      "158it [00:16,  9.53it/s]"
     ]
    },
    {
     "name": "stdout",
     "output_type": "stream",
     "text": [
      "wanted: 43.0, got:  4.3 | err | data/3_type/43_0.png\n",
      "wanted: 44.0, got:  4.4 | err | data/3_type/44_0.png\n"
     ]
    },
    {
     "name": "stderr",
     "output_type": "stream",
     "text": [
      "160it [00:17,  9.45it/s]"
     ]
    },
    {
     "name": "stdout",
     "output_type": "stream",
     "text": [
      "wanted: 45.0, got:  4.5 | err | data/3_type/45_0.png\n",
      "wanted: 46.0, got:  4.6 | err | data/3_type/46_0.png\n"
     ]
    },
    {
     "name": "stderr",
     "output_type": "stream",
     "text": [
      "162it [00:17,  9.53it/s]"
     ]
    },
    {
     "name": "stdout",
     "output_type": "stream",
     "text": [
      "wanted: 47.0, got:  4.7 | err | data/3_type/47_0.png\n",
      "wanted: 48.0, got:  4.8 | err | data/3_type/48_0.png\n"
     ]
    },
    {
     "name": "stderr",
     "output_type": "stream",
     "text": [
      "164it [00:17,  9.43it/s]"
     ]
    },
    {
     "name": "stdout",
     "output_type": "stream",
     "text": [
      "wanted: 49.0, got:  4.9 | err | data/3_type/49_0.png\n",
      "wanted:  4.0, got:  0.4 | err | data/3_type/4_0.png\n"
     ]
    },
    {
     "name": "stderr",
     "output_type": "stream",
     "text": [
      "166it [00:17,  9.40it/s]"
     ]
    },
    {
     "name": "stdout",
     "output_type": "stream",
     "text": [
      "wanted: 50.0, got:  5.0 | err | data/3_type/50_0.png\n",
      "wanted: 51.0, got:  5.1 | err | data/3_type/51_0.png\n"
     ]
    },
    {
     "name": "stderr",
     "output_type": "stream",
     "text": [
      "168it [00:17,  9.45it/s]"
     ]
    },
    {
     "name": "stdout",
     "output_type": "stream",
     "text": [
      "wanted: 52.0, got:  5.2 | err | data/3_type/52_0.png\n",
      "wanted: 53.0, got:  5.3 | err | data/3_type/53_0.png\n"
     ]
    },
    {
     "name": "stderr",
     "output_type": "stream",
     "text": [
      "170it [00:18,  9.47it/s]"
     ]
    },
    {
     "name": "stdout",
     "output_type": "stream",
     "text": [
      "wanted: 54.0, got:  5.4 | err | data/3_type/54_0.png\n",
      "wanted: 55.0, got:  5.5 | err | data/3_type/55_0.png\n"
     ]
    },
    {
     "name": "stderr",
     "output_type": "stream",
     "text": [
      "172it [00:18,  9.49it/s]"
     ]
    },
    {
     "name": "stdout",
     "output_type": "stream",
     "text": [
      "wanted: 56.0, got:  5.6 | err | data/3_type/56_0.png\n",
      "wanted: 57.0, got:  5.7 | err | data/3_type/57_0.png\n"
     ]
    },
    {
     "name": "stderr",
     "output_type": "stream",
     "text": [
      "174it [00:18,  9.48it/s]"
     ]
    },
    {
     "name": "stdout",
     "output_type": "stream",
     "text": [
      "wanted: 58.0, got:  5.8 | err | data/3_type/58_0.png\n",
      "wanted: 59.0, got:  5.9 | err | data/3_type/59_0.png\n"
     ]
    },
    {
     "name": "stderr",
     "output_type": "stream",
     "text": [
      "176it [00:18,  9.47it/s]"
     ]
    },
    {
     "name": "stdout",
     "output_type": "stream",
     "text": [
      "wanted:  5.0, got:  0.5 | err | data/3_type/5_0.png\n",
      "wanted: 60.0, got:  6.0 | err | data/3_type/60_0.png\n"
     ]
    },
    {
     "name": "stderr",
     "output_type": "stream",
     "text": [
      "178it [00:18,  9.44it/s]"
     ]
    },
    {
     "name": "stdout",
     "output_type": "stream",
     "text": [
      "wanted: 61.0, got:  6.1 | err | data/3_type/61_0.png\n",
      "wanted: 62.0, got:  6.2 | err | data/3_type/62_0.png\n"
     ]
    },
    {
     "name": "stderr",
     "output_type": "stream",
     "text": [
      "180it [00:19,  9.35it/s]"
     ]
    },
    {
     "name": "stdout",
     "output_type": "stream",
     "text": [
      "wanted: 63.0, got:  6.3 | err | data/3_type/63_0.png\n",
      "wanted: 64.0, got:  6.4 | err | data/3_type/64_0.png\n"
     ]
    },
    {
     "name": "stderr",
     "output_type": "stream",
     "text": [
      "182it [00:19,  9.43it/s]"
     ]
    },
    {
     "name": "stdout",
     "output_type": "stream",
     "text": [
      "wanted: 65.0, got:  6.5 | err | data/3_type/65_0.png\n",
      "wanted: 66.0, got:  6.6 | err | data/3_type/66_0.png\n"
     ]
    },
    {
     "name": "stderr",
     "output_type": "stream",
     "text": [
      "184it [00:19,  9.45it/s]"
     ]
    },
    {
     "name": "stdout",
     "output_type": "stream",
     "text": [
      "wanted: 67.0, got:  6.7 | err | data/3_type/67_0.png\n",
      "wanted: 68.0, got:  6.8 | err | data/3_type/68_0.png\n"
     ]
    },
    {
     "name": "stderr",
     "output_type": "stream",
     "text": [
      "186it [00:19,  9.53it/s]"
     ]
    },
    {
     "name": "stdout",
     "output_type": "stream",
     "text": [
      "wanted: 69.0, got:  6.9 | err | data/3_type/69_0.png\n",
      "wanted:  6.0, got:  0.6 | err | data/3_type/6_0.png\n"
     ]
    },
    {
     "name": "stderr",
     "output_type": "stream",
     "text": [
      "188it [00:20,  9.51it/s]"
     ]
    },
    {
     "name": "stdout",
     "output_type": "stream",
     "text": [
      "wanted: 70.0, got:  7.0 | err | data/3_type/70_0.png\n",
      "wanted: 71.0, got:  7.1 | err | data/3_type/71_0.png\n"
     ]
    },
    {
     "name": "stderr",
     "output_type": "stream",
     "text": [
      "190it [00:20,  9.48it/s]"
     ]
    },
    {
     "name": "stdout",
     "output_type": "stream",
     "text": [
      "wanted: 72.0, got:  7.2 | err | data/3_type/72_0.png\n",
      "wanted: 73.0, got:  7.3 | err | data/3_type/73_0.png\n"
     ]
    },
    {
     "name": "stderr",
     "output_type": "stream",
     "text": [
      "192it [00:20,  9.44it/s]"
     ]
    },
    {
     "name": "stdout",
     "output_type": "stream",
     "text": [
      "wanted: 74.0, got:  7.4 | err | data/3_type/74_0.png\n",
      "wanted: 75.0, got:  7.5 | err | data/3_type/75_0.png\n"
     ]
    },
    {
     "name": "stderr",
     "output_type": "stream",
     "text": [
      "194it [00:20,  9.40it/s]"
     ]
    },
    {
     "name": "stdout",
     "output_type": "stream",
     "text": [
      "wanted: 76.0, got:  7.6 | err | data/3_type/76_0.png\n",
      "wanted: 77.0, got:  7.7 | err | data/3_type/77_0.png\n"
     ]
    },
    {
     "name": "stderr",
     "output_type": "stream",
     "text": [
      "196it [00:20,  9.43it/s]"
     ]
    },
    {
     "name": "stdout",
     "output_type": "stream",
     "text": [
      "wanted: 78.0, got:  7.8 | err | data/3_type/78_0.png\n",
      "wanted: 79.0, got:  7.9 | err | data/3_type/79_0(2).png\n"
     ]
    },
    {
     "name": "stderr",
     "output_type": "stream",
     "text": [
      "198it [00:21,  9.48it/s]"
     ]
    },
    {
     "name": "stdout",
     "output_type": "stream",
     "text": [
      "wanted: 79.0, got:  7.9 | err | data/3_type/79_0.png\n",
      "wanted:  7.0, got:  0.7 | err | data/3_type/7_0.png\n"
     ]
    },
    {
     "name": "stderr",
     "output_type": "stream",
     "text": [
      "200it [00:21,  9.46it/s]"
     ]
    },
    {
     "name": "stdout",
     "output_type": "stream",
     "text": [
      "wanted: 80.0, got:  8.0 | err | data/3_type/80_0.png\n",
      "wanted: 81.0, got:  8.1 | err | data/3_type/81_0.png\n"
     ]
    },
    {
     "name": "stderr",
     "output_type": "stream",
     "text": [
      "202it [00:21,  9.43it/s]"
     ]
    },
    {
     "name": "stdout",
     "output_type": "stream",
     "text": [
      "wanted: 82.0, got:  8.2 | err | data/3_type/82_0.png\n",
      "wanted: 83.0, got:  8.3 | err | data/3_type/83_0.png\n"
     ]
    },
    {
     "name": "stderr",
     "output_type": "stream",
     "text": [
      "204it [00:21,  9.42it/s]"
     ]
    },
    {
     "name": "stdout",
     "output_type": "stream",
     "text": [
      "wanted: 84.0, got:  8.4 | err | data/3_type/84_0.png\n",
      "wanted: 85.0, got:  8.5 | err | data/3_type/85_0.png\n"
     ]
    },
    {
     "name": "stderr",
     "output_type": "stream",
     "text": [
      "206it [00:21,  9.44it/s]"
     ]
    },
    {
     "name": "stdout",
     "output_type": "stream",
     "text": [
      "wanted: 86.0, got:  8.6 | err | data/3_type/86_0.png\n",
      "wanted: 87.0, got:  8.7 | err | data/3_type/87_0.png\n"
     ]
    },
    {
     "name": "stderr",
     "output_type": "stream",
     "text": [
      "208it [00:22,  9.34it/s]"
     ]
    },
    {
     "name": "stdout",
     "output_type": "stream",
     "text": [
      "wanted: 88.0, got:  8.8 | err | data/3_type/88_0.png\n",
      "wanted: 89.0, got:  8.9 | err | data/3_type/89_0.png\n"
     ]
    },
    {
     "name": "stderr",
     "output_type": "stream",
     "text": [
      "210it [00:22,  9.38it/s]"
     ]
    },
    {
     "name": "stdout",
     "output_type": "stream",
     "text": [
      "wanted:  8.0, got:  0.8 | err | data/3_type/8_0.png\n",
      "wanted: 90.0, got:  9.0 | err | data/3_type/90_0.png\n"
     ]
    },
    {
     "name": "stderr",
     "output_type": "stream",
     "text": [
      "212it [00:22,  9.39it/s]"
     ]
    },
    {
     "name": "stdout",
     "output_type": "stream",
     "text": [
      "wanted: 91.0, got:  9.1 | err | data/3_type/91_0.png\n",
      "wanted: 92.0, got:  9.2 | err | data/3_type/92_0.png\n"
     ]
    },
    {
     "name": "stderr",
     "output_type": "stream",
     "text": [
      "214it [00:22,  9.38it/s]"
     ]
    },
    {
     "name": "stdout",
     "output_type": "stream",
     "text": [
      "wanted: 93.0, got:  9.3 | err | data/3_type/93_0.png\n",
      "wanted: 94.0, got:  9.4 | err | data/3_type/94_0.png\n"
     ]
    },
    {
     "name": "stderr",
     "output_type": "stream",
     "text": [
      "216it [00:22,  9.41it/s]"
     ]
    },
    {
     "name": "stdout",
     "output_type": "stream",
     "text": [
      "wanted: 95.0, got:  9.5 | err | data/3_type/95_0.png\n",
      "wanted: 96.0, got:  9.6 | err | data/3_type/96_0.png\n"
     ]
    },
    {
     "name": "stderr",
     "output_type": "stream",
     "text": [
      "218it [00:23,  9.41it/s]"
     ]
    },
    {
     "name": "stdout",
     "output_type": "stream",
     "text": [
      "wanted: 97.0, got:  9.7 | err | data/3_type/97_0.png\n",
      "wanted: 98.0, got:  9.8 | err | data/3_type/98_0.png\n"
     ]
    },
    {
     "name": "stderr",
     "output_type": "stream",
     "text": [
      "220it [00:23,  9.39it/s]"
     ]
    },
    {
     "name": "stdout",
     "output_type": "stream",
     "text": [
      "wanted: 99.0, got:  9.9 | err | data/3_type/99_0.png\n",
      "wanted:  9.0, got:  0.9 | err | data/3_type/9_0.png\n"
     ]
    },
    {
     "name": "stderr",
     "output_type": "stream",
     "text": [
      "222it [00:23,  9.45it/s]"
     ]
    },
    {
     "name": "stdout",
     "output_type": "stream",
     "text": [
      "wanted:  0.0, got:  0.0 | ok | data/4_type/0_0(2).png\n",
      "wanted:  0.0, got:  0.0 | ok | data/4_type/0_0(3).png\n"
     ]
    },
    {
     "name": "stderr",
     "output_type": "stream",
     "text": [
      "224it [00:23,  9.47it/s]"
     ]
    },
    {
     "name": "stdout",
     "output_type": "stream",
     "text": [
      "wanted:  0.0, got:  0.0 | ok | data/4_type/0_0.png\n",
      "wanted: 10.0, got: 10.0 | ok | data/4_type/10_0.png\n"
     ]
    },
    {
     "name": "stderr",
     "output_type": "stream",
     "text": [
      "226it [00:24,  9.50it/s]"
     ]
    },
    {
     "name": "stdout",
     "output_type": "stream",
     "text": [
      "wanted: 11.0, got:  1.0 | err | data/4_type/11_0.png\n",
      "wanted: 12.0, got: 72.0 | err | data/4_type/12_0.png\n"
     ]
    },
    {
     "name": "stderr",
     "output_type": "stream",
     "text": [
      "228it [00:24,  9.44it/s]"
     ]
    },
    {
     "name": "stdout",
     "output_type": "stream",
     "text": [
      "wanted: 13.0, got: 13.0 | ok | data/4_type/13_0.png\n",
      "wanted: 14.0, got:  0.4 | err | data/4_type/14_0.png\n"
     ]
    },
    {
     "name": "stderr",
     "output_type": "stream",
     "text": [
      "230it [00:24,  9.37it/s]"
     ]
    },
    {
     "name": "stdout",
     "output_type": "stream",
     "text": [
      "wanted: 16.0, got:  0.4 | err | data/4_type/16_0.png\n",
      "wanted: 17.0, got:  1.7 | err | data/4_type/17_0.png\n"
     ]
    },
    {
     "name": "stderr",
     "output_type": "stream",
     "text": [
      "232it [00:24,  9.39it/s]"
     ]
    },
    {
     "name": "stdout",
     "output_type": "stream",
     "text": [
      "wanted: 18.0, got:  7.0 | err | data/4_type/18_0.png\n",
      "wanted: 19.0, got:  0.4 | err | data/4_type/19_0.png\n"
     ]
    },
    {
     "name": "stderr",
     "output_type": "stream",
     "text": [
      "234it [00:24,  9.41it/s]"
     ]
    },
    {
     "name": "stdout",
     "output_type": "stream",
     "text": [
      "wanted:  1.0, got:  1.0 | ok | data/4_type/1_0.png\n",
      "wanted: 21.0, got: 21.0 | ok | data/4_type/21_0.png\n"
     ]
    },
    {
     "name": "stderr",
     "output_type": "stream",
     "text": [
      "235it [00:25,  9.40it/s]"
     ]
    },
    {
     "name": "stdout",
     "output_type": "stream",
     "text": [
      "wanted: 22.0, got:  2.2 | err | data/4_type/22_0.png\n",
      "err %: 65.53191489361701\n"
     ]
    },
    {
     "name": "stderr",
     "output_type": "stream",
     "text": [
      "\n"
     ]
    }
   ],
   "source": [
    "parse_image_dir(DATA_PATH)"
   ]
  },
  {
   "cell_type": "code",
   "execution_count": 57,
   "id": "374ca7ca-bf41-440f-9741-ff99f00ffc3c",
   "metadata": {},
   "outputs": [
    {
     "name": "stdout",
     "output_type": "stream",
     "text": [
      "12.5\n"
     ]
    }
   ],
   "source": []
  },
  {
   "cell_type": "code",
   "execution_count": null,
   "id": "b1d399e2-e5e9-4142-9c9c-f7b3a77e4da8",
   "metadata": {},
   "outputs": [],
   "source": []
  }
 ],
 "metadata": {
  "kernelspec": {
   "display_name": "Python 3 (ipykernel)",
   "language": "python",
   "name": "python3"
  },
  "language_info": {
   "codemirror_mode": {
    "name": "ipython",
    "version": 3
   },
   "file_extension": ".py",
   "mimetype": "text/x-python",
   "name": "python",
   "nbconvert_exporter": "python",
   "pygments_lexer": "ipython3",
   "version": "3.13.2"
  }
 },
 "nbformat": 4,
 "nbformat_minor": 5
}
